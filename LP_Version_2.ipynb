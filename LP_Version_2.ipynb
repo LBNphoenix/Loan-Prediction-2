{
 "cells": [
  {
   "cell_type": "code",
   "execution_count": 1,
   "metadata": {
    "collapsed": false
   },
   "outputs": [],
   "source": [
    "import pandas as pd\n",
    "from sklearn import svm\n",
    "from sklearn import cross_validation\n",
    "from sklearn.linear_model import LinearRegression\n",
    "from sklearn.feature_selection import SelectKBest, f_classif, chi2\n",
    "from sklearn.naive_bayes import BernoulliNB\n",
    "import numpy as np\n",
    "import matplotlib.pyplot as plt"
   ]
  },
  {
   "cell_type": "code",
   "execution_count": 2,
   "metadata": {
    "collapsed": true
   },
   "outputs": [],
   "source": [
    "loan = pd.read_csv('train.csv')\n",
    "loan_credit_history = pd.read_csv('train.csv')\n",
    "loan_test = pd.read_csv('test.csv')"
   ]
  },
  {
   "cell_type": "code",
   "execution_count": 3,
   "metadata": {
    "collapsed": false
   },
   "outputs": [
    {
     "data": {
      "text/html": [
       "<div>\n",
       "<table border=\"1\" class=\"dataframe\">\n",
       "  <thead>\n",
       "    <tr style=\"text-align: right;\">\n",
       "      <th></th>\n",
       "      <th>ApplicantIncome</th>\n",
       "      <th>CoapplicantIncome</th>\n",
       "      <th>LoanAmount</th>\n",
       "      <th>Loan_Amount_Term</th>\n",
       "      <th>Credit_History</th>\n",
       "    </tr>\n",
       "  </thead>\n",
       "  <tbody>\n",
       "    <tr>\n",
       "      <th>count</th>\n",
       "      <td>614.000000</td>\n",
       "      <td>614.000000</td>\n",
       "      <td>592.000000</td>\n",
       "      <td>600.00000</td>\n",
       "      <td>564.000000</td>\n",
       "    </tr>\n",
       "    <tr>\n",
       "      <th>mean</th>\n",
       "      <td>5403.459283</td>\n",
       "      <td>1621.245798</td>\n",
       "      <td>146.412162</td>\n",
       "      <td>342.00000</td>\n",
       "      <td>0.842199</td>\n",
       "    </tr>\n",
       "    <tr>\n",
       "      <th>std</th>\n",
       "      <td>6109.041673</td>\n",
       "      <td>2926.248369</td>\n",
       "      <td>85.587325</td>\n",
       "      <td>65.12041</td>\n",
       "      <td>0.364878</td>\n",
       "    </tr>\n",
       "    <tr>\n",
       "      <th>min</th>\n",
       "      <td>150.000000</td>\n",
       "      <td>0.000000</td>\n",
       "      <td>9.000000</td>\n",
       "      <td>12.00000</td>\n",
       "      <td>0.000000</td>\n",
       "    </tr>\n",
       "    <tr>\n",
       "      <th>25%</th>\n",
       "      <td>2877.500000</td>\n",
       "      <td>0.000000</td>\n",
       "      <td>100.000000</td>\n",
       "      <td>360.00000</td>\n",
       "      <td>1.000000</td>\n",
       "    </tr>\n",
       "    <tr>\n",
       "      <th>50%</th>\n",
       "      <td>3812.500000</td>\n",
       "      <td>1188.500000</td>\n",
       "      <td>128.000000</td>\n",
       "      <td>360.00000</td>\n",
       "      <td>1.000000</td>\n",
       "    </tr>\n",
       "    <tr>\n",
       "      <th>75%</th>\n",
       "      <td>5795.000000</td>\n",
       "      <td>2297.250000</td>\n",
       "      <td>168.000000</td>\n",
       "      <td>360.00000</td>\n",
       "      <td>1.000000</td>\n",
       "    </tr>\n",
       "    <tr>\n",
       "      <th>max</th>\n",
       "      <td>81000.000000</td>\n",
       "      <td>41667.000000</td>\n",
       "      <td>700.000000</td>\n",
       "      <td>480.00000</td>\n",
       "      <td>1.000000</td>\n",
       "    </tr>\n",
       "  </tbody>\n",
       "</table>\n",
       "</div>"
      ],
      "text/plain": [
       "       ApplicantIncome  CoapplicantIncome  LoanAmount  Loan_Amount_Term  \\\n",
       "count       614.000000         614.000000  592.000000         600.00000   \n",
       "mean       5403.459283        1621.245798  146.412162         342.00000   \n",
       "std        6109.041673        2926.248369   85.587325          65.12041   \n",
       "min         150.000000           0.000000    9.000000          12.00000   \n",
       "25%        2877.500000           0.000000  100.000000         360.00000   \n",
       "50%        3812.500000        1188.500000  128.000000         360.00000   \n",
       "75%        5795.000000        2297.250000  168.000000         360.00000   \n",
       "max       81000.000000       41667.000000  700.000000         480.00000   \n",
       "\n",
       "       Credit_History  \n",
       "count      564.000000  \n",
       "mean         0.842199  \n",
       "std          0.364878  \n",
       "min          0.000000  \n",
       "25%          1.000000  \n",
       "50%          1.000000  \n",
       "75%          1.000000  \n",
       "max          1.000000  "
      ]
     },
     "execution_count": 3,
     "metadata": {},
     "output_type": "execute_result"
    }
   ],
   "source": [
    "loan.describe()"
   ]
  },
  {
   "cell_type": "code",
   "execution_count": 4,
   "metadata": {
    "collapsed": false
   },
   "outputs": [
    {
     "data": {
      "text/plain": [
       "Loan_ID              614\n",
       "Gender               601\n",
       "Married              611\n",
       "Dependents           599\n",
       "Education            614\n",
       "Self_Employed        582\n",
       "ApplicantIncome      614\n",
       "CoapplicantIncome    614\n",
       "LoanAmount           592\n",
       "Loan_Amount_Term     600\n",
       "Credit_History       564\n",
       "Property_Area        614\n",
       "Loan_Status          614\n",
       "dtype: int64"
      ]
     },
     "execution_count": 4,
     "metadata": {},
     "output_type": "execute_result"
    }
   ],
   "source": [
    "loan.count()"
   ]
  },
  {
   "cell_type": "code",
   "execution_count": 5,
   "metadata": {
    "collapsed": false
   },
   "outputs": [
    {
     "data": {
      "text/plain": [
       "Loan_ID              367\n",
       "Gender               356\n",
       "Married              367\n",
       "Dependents           357\n",
       "Education            367\n",
       "Self_Employed        344\n",
       "ApplicantIncome      367\n",
       "CoapplicantIncome    367\n",
       "LoanAmount           362\n",
       "Loan_Amount_Term     361\n",
       "Credit_History       338\n",
       "Property_Area        367\n",
       "dtype: int64"
      ]
     },
     "execution_count": 5,
     "metadata": {},
     "output_type": "execute_result"
    }
   ],
   "source": [
    "loan_test.count()"
   ]
  },
  {
   "cell_type": "code",
   "execution_count": 6,
   "metadata": {
    "collapsed": false
   },
   "outputs": [],
   "source": [
    "loan.loc[loan['Property_Area'] == 'Rural', 'Property_Area'] = 0\n",
    "loan.loc[loan['Property_Area'] == 'Semiurban', 'Property_Area'] = 1\n",
    "loan.loc[loan['Property_Area'] == 'Urban', 'Property_Area'] = 2\n",
    "\n",
    "loan.loc[loan['Education'] == 'Graduate', 'Education'] = 1\n",
    "loan.loc[loan['Education'] == 'Not Graduate', 'Education'] = 0\n",
    "loan_credit_history.loc[loan_credit_history['Education'] == 'Graduate', 'Education'] = 1\n",
    "loan_credit_history.loc[loan_credit_history['Education'] == 'Not Graduate', 'Education'] = 0\n",
    "loan.loc[loan['Married'] == 'Yes', 'Married'] = 1\n",
    "loan.loc[loan['Married'] == 'No', 'Married'] = 0\n",
    "loan.loc[loan['Gender'] == 'Male', 'Gender'] = 1\n",
    "loan.loc[loan['Gender'] == 'Female', 'Gender'] = 0\n",
    "loan.loc[loan['Self_Employed'] == 'Yes', 'Self_Employed'] = 1\n",
    "loan.loc[loan['Self_Employed'] == 'No', 'Self_Employed'] = 0\n",
    "loan.loc[loan['Dependents'] == '0', 'Dependents'] = 0\n",
    "loan.loc[loan['Dependents'] == '1', 'Dependents'] = 1\n",
    "loan.loc[loan['Dependents'] == '2', 'Dependents'] = 2\n",
    "loan.loc[loan['Dependents'] == '3+', 'Dependents'] = 3\n",
    "\n",
    "loan_test.loc[loan_test['Property_Area'] == 'Rural', 'Property_Area'] = 0\n",
    "loan_test.loc[loan_test['Property_Area'] == 'Semiurban', 'Property_Area'] = 1\n",
    "loan_test.loc[loan_test['Property_Area'] == 'Urban', 'Property_Area'] = 2\n",
    "loan_test.loc[loan_test['Education'] == 'Graduate', 'Education'] = 1\n",
    "loan_test.loc[loan_test['Education'] == 'Not Graduate', 'Education'] = 0\n",
    "loan_test.loc[loan_test['Married'] == 'Yes', 'Married'] = 1\n",
    "loan_test.loc[loan_test['Married'] == 'No', 'Married'] = 0\n",
    "loan_test.loc[loan_test['Gender'] == 'Male', 'Gender'] = 1\n",
    "loan_test.loc[loan_test['Gender'] == 'Female', 'Gender'] = 0\n",
    "loan_test.loc[loan_test['Self_Employed'] == 'Yes', 'Self_Employed'] = 1\n",
    "loan_test.loc[loan_test['Self_Employed'] == 'No', 'Self_Employed'] = 0\n",
    "loan_test.loc[loan_test['Dependents'] == '0', 'Dependents'] = 0\n",
    "loan_test.loc[loan_test['Dependents'] == '1', 'Dependents'] = 1\n",
    "loan_test.loc[loan_test['Dependents'] == '2', 'Dependents'] = 2\n",
    "loan_test.loc[loan_test['Dependents'] == '3+', 'Dependents'] = 3\n",
    "\n",
    "loan['Credit_History'] = loan['Credit_History'].fillna(loan['Credit_History'].mean())\n",
    "#loan['Credit_History'] = loan['Credit_History'].fillna(loan['Credit_History'].quantile())\n",
    "loan['ApplicantIncome'] = loan['ApplicantIncome'].fillna(loan['ApplicantIncome'].quantile())\n",
    "loan['LoanAmount'] = loan['LoanAmount'].fillna(loan['LoanAmount'].quantile())\n",
    "loan['Loan_Amount_Term'] = loan['Loan_Amount_Term'].fillna(loan['Loan_Amount_Term'].quantile())\n",
    "loan['Gender'] = loan['Gender'].fillna(1)\n",
    "loan['Self_Employed'] = loan['Self_Employed'].fillna(0)\n",
    "loan['Married'] = loan['Married'].fillna(0)\n",
    "loan['Dependents'] = loan['Dependents'].fillna(loan['Dependents'].quantile())\n",
    "\n",
    "loan_test['Credit_History'] = loan_test['Credit_History'].fillna(loan_test['Credit_History'].mean())\n",
    "#loan_test['Credit_History'] = loan_test['Credit_History'].fillna(loan_test['Credit_History'].quantile())\n",
    "loan_test['ApplicantIncome'] = loan_test['ApplicantIncome'].fillna(loan_test['ApplicantIncome'].quantile())\n",
    "loan_test['LoanAmount'] = loan_test['LoanAmount'].fillna(loan_test['LoanAmount'].quantile())\n",
    "loan_test['Loan_Amount_Term'] = loan_test['Loan_Amount_Term'].fillna(loan_test['Loan_Amount_Term'].quantile())\n",
    "loan_test['Gender'] = loan_test['Gender'].fillna(1)\n",
    "loan_test['Self_Employed'] = loan_test['Self_Employed'].fillna(0)\n",
    "loan['Married'] = loan['Married'].fillna(0)\n",
    "loan_test['Dependents'] = loan_test['Dependents'].fillna(0)"
   ]
  },
  {
   "cell_type": "code",
   "execution_count": 7,
   "metadata": {
    "collapsed": false
   },
   "outputs": [],
   "source": [
    "#print(loan['Married'].unique())\n",
    "#print(loan['Property_Area'].unique())\n",
    "#print(loan['Dependents'].unique())\n",
    "#predictors = ['Married', 'Property_Area', 'Dependents', 'Self_Employed', 'Gender', \n",
    "#              'ApplicantIncome', 'CoapplicantIncome', 'LoanAmount', 'Loan_Amount_Term',\n",
    "#              'Education']\n",
    "#predictors = ['ApplicantIncome', 'CoapplicantIncome', 'Education', 'Married']\n",
    "#selector = SelectKBest(f_classif, k=3)\n",
    "#selector.fit(loan[predictors], loan['Loan_Status'])\n",
    "#scores = -np.log10(selector.pvalues_)\n",
    "\n",
    "# Plot the scores\n",
    "#plt.bar(range(len(predictors)), scores)\n",
    "#plt.xticks(range(len(predictors)), predictors, rotation='vertical')\n",
    "#plt.show()\n",
    "\n",
    "#selector = SelectKBest(chi2, k=3)\n",
    "#selector.fit(loan[predictors], loan['Loan_Status'])\n",
    "#scores = -np.log10(selector.pvalues_)\n",
    "\n",
    "#plt.bar(range(len(predictors)), scores)\n",
    "#plt.xticks(range(len(predictors)), predictors, rotation='vertical')\n",
    "#plt.show()"
   ]
  },
  {
   "cell_type": "code",
   "execution_count": 8,
   "metadata": {
    "collapsed": false
   },
   "outputs": [
    {
     "name": "stdout",
     "output_type": "stream",
     "text": [
      "[ 1.  0.]\n",
      "[ 0.83333333  0.83333333  0.83333333  0.83333333  0.83333333  0.85106383\n",
      "  0.85106383  0.84782609  0.84782609  0.84782609  0.84782609  0.84782609]\n",
      "0.842327063419\n"
     ]
    }
   ],
   "source": [
    "loan_credit_history = loan_credit_history.dropna(subset=['Credit_History'])\n",
    "print(loan_credit_history['Credit_History'].unique())\n",
    "predictors = ['Education']#, 'CoapplicantIncome', 'Property_Area'] #'LoanAmount',\n",
    "model = svm.SVC(probability=True)\n",
    "scores = cross_validation.cross_val_score(model, loan_credit_history[predictors], \n",
    "                                          loan_credit_history['Credit_History'], cv=12)\n",
    "print(scores)\n",
    "print(scores.mean())\n",
    "model.fit(loan_credit_history[predictors], loan_credit_history['Credit_History'])\n",
    "loan['Credit_History_New'] = model.predict(loan[predictors])\n",
    "loan_test['Credit_History_New'] = model.predict(loan_test[predictors])"
   ]
  },
  {
   "cell_type": "code",
   "execution_count": 9,
   "metadata": {
    "collapsed": false
   },
   "outputs": [
    {
     "name": "stdout",
     "output_type": "stream",
     "text": [
      "[ 0.80769231  0.84615385  0.74509804  0.80392157  0.76470588  0.78431373\n",
      "  0.78431373  0.84313725  0.84313725  0.82352941  0.84313725  0.82352941]\n",
      "0.809389140271\n",
      "[ 0.80769231  0.84615385  0.74509804  0.80392157  0.76470588  0.78431373\n",
      "  0.78431373  0.84313725  0.84313725  0.82352941  0.84313725  0.82352941]\n",
      "0.809389140271\n"
     ]
    },
    {
     "data": {
      "text/plain": [
       "SVC(C=1.0, cache_size=200, class_weight=None, coef0=0.0,\n",
       "  decision_function_shape=None, degree=3, gamma='auto', kernel='rbf',\n",
       "  max_iter=-1, probability=True, random_state=None, shrinking=False,\n",
       "  tol=0.001, verbose=False)"
      ]
     },
     "execution_count": 9,
     "metadata": {},
     "output_type": "execute_result"
    }
   ],
   "source": [
    "predictors = ['Credit_History', 'Education', 'Married', 'CoapplicantIncome', 'Property_Area', 'LoanAmount']\n",
    "classes = ['Y', 'N']\n",
    "classifier = BernoulliNB(class_prior=[0, 1])  # Here we provide prior probabilities.\n",
    "classifier.fit(data, classes)\n",
    "model = BernoulliNB(class_prior=[])\n",
    "scores = cross_validation.cross_val_score(model, loan[predictors], loan['Loan_Status'], cv=12)\n",
    "print(scores)\n",
    "print(scores.mean())\n",
    "\n",
    "predictors = ['Credit_History', 'Education', 'Married']#, 'CoapplicantIncome', 'Property_Area'] #'LoanAmount',\n",
    "model = svm.SVC(probability=True, shrinking=False)\n",
    "scores = cross_validation.cross_val_score(model, loan[predictors], loan['Loan_Status'], cv=12)\n",
    "print(scores)\n",
    "print(scores.mean())\n",
    "model.fit(loan[predictors], loan['Loan_Status'])"
   ]
  },
  {
   "cell_type": "code",
   "execution_count": 10,
   "metadata": {
    "collapsed": false
   },
   "outputs": [],
   "source": [
    "loan_test['Loan_Status'] = model.predict(loan_test[predictors])"
   ]
  },
  {
   "cell_type": "code",
   "execution_count": 11,
   "metadata": {
    "collapsed": true
   },
   "outputs": [],
   "source": [
    "loan_test_result = loan_test[['Loan_ID', 'Loan_Status']].copy()"
   ]
  },
  {
   "cell_type": "code",
   "execution_count": 12,
   "metadata": {
    "collapsed": true
   },
   "outputs": [],
   "source": [
    "loan_test_result.to_csv('result.csv', index=False)"
   ]
  },
  {
   "cell_type": "code",
   "execution_count": 15,
   "metadata": {
    "collapsed": false
   },
   "outputs": [
    {
     "name": "stdout",
     "output_type": "stream",
     "text": [
      "Y    422\n",
      "N    192\n",
      "Name: Loan_Status, dtype: int64\n"
     ]
    }
   ],
   "source": [
    "plt.figure()\n",
    "#loan['Loan_Amount_Term'].plot.hist()\n",
    "#plt.show()\n",
    "print(loan['Loan_Status'].value_counts())\n",
    "loan['Loan_Status'].value_counts().plot(kind='bar')\n",
    "plt.show()\n",
    "#loan['Self_Employed'].value_counts().plot(kind='bar')\n",
    "#plt.show()"
   ]
  },
  {
   "cell_type": "code",
   "execution_count": null,
   "metadata": {
    "collapsed": false
   },
   "outputs": [],
   "source": []
  },
  {
   "cell_type": "code",
   "execution_count": null,
   "metadata": {
    "collapsed": false
   },
   "outputs": [],
   "source": []
  },
  {
   "cell_type": "code",
   "execution_count": null,
   "metadata": {
    "collapsed": true
   },
   "outputs": [],
   "source": []
  }
 ],
 "metadata": {
  "kernelspec": {
   "display_name": "Python 2",
   "language": "python",
   "name": "python2"
  },
  "language_info": {
   "codemirror_mode": {
    "name": "ipython",
    "version": 2
   },
   "file_extension": ".py",
   "mimetype": "text/x-python",
   "name": "python",
   "nbconvert_exporter": "python",
   "pygments_lexer": "ipython2",
   "version": "2.7.11"
  }
 },
 "nbformat": 4,
 "nbformat_minor": 0
}
