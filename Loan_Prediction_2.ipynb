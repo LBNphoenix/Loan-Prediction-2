{
 "cells": [
  {
   "cell_type": "code",
   "execution_count": 91,
   "metadata": {
    "collapsed": false
   },
   "outputs": [],
   "source": [
    "import pandas as pd\n",
    "from sklearn import svm\n",
    "from sklearn import cross_validation\n",
    "from sklearn.linear_model import LinearRegression\n",
    "from sklearn.feature_selection import SelectKBest, f_classif\n",
    "import numpy as np\n",
    "import matplotlib.pyplot as plt"
   ]
  },
  {
   "cell_type": "code",
   "execution_count": 92,
   "metadata": {
    "collapsed": false
   },
   "outputs": [
    {
     "data": {
      "text/html": [
       "<div>\n",
       "<table border=\"1\" class=\"dataframe\">\n",
       "  <thead>\n",
       "    <tr style=\"text-align: right;\">\n",
       "      <th></th>\n",
       "      <th>ApplicantIncome</th>\n",
       "      <th>CoapplicantIncome</th>\n",
       "      <th>LoanAmount</th>\n",
       "      <th>Loan_Amount_Term</th>\n",
       "      <th>Credit_History</th>\n",
       "    </tr>\n",
       "  </thead>\n",
       "  <tbody>\n",
       "    <tr>\n",
       "      <th>count</th>\n",
       "      <td>614.000000</td>\n",
       "      <td>614.000000</td>\n",
       "      <td>592.000000</td>\n",
       "      <td>600.00000</td>\n",
       "      <td>564.000000</td>\n",
       "    </tr>\n",
       "    <tr>\n",
       "      <th>mean</th>\n",
       "      <td>5403.459283</td>\n",
       "      <td>1621.245798</td>\n",
       "      <td>146.412162</td>\n",
       "      <td>342.00000</td>\n",
       "      <td>0.842199</td>\n",
       "    </tr>\n",
       "    <tr>\n",
       "      <th>std</th>\n",
       "      <td>6109.041673</td>\n",
       "      <td>2926.248369</td>\n",
       "      <td>85.587325</td>\n",
       "      <td>65.12041</td>\n",
       "      <td>0.364878</td>\n",
       "    </tr>\n",
       "    <tr>\n",
       "      <th>min</th>\n",
       "      <td>150.000000</td>\n",
       "      <td>0.000000</td>\n",
       "      <td>9.000000</td>\n",
       "      <td>12.00000</td>\n",
       "      <td>0.000000</td>\n",
       "    </tr>\n",
       "    <tr>\n",
       "      <th>25%</th>\n",
       "      <td>2877.500000</td>\n",
       "      <td>0.000000</td>\n",
       "      <td>100.000000</td>\n",
       "      <td>360.00000</td>\n",
       "      <td>1.000000</td>\n",
       "    </tr>\n",
       "    <tr>\n",
       "      <th>50%</th>\n",
       "      <td>3812.500000</td>\n",
       "      <td>1188.500000</td>\n",
       "      <td>128.000000</td>\n",
       "      <td>360.00000</td>\n",
       "      <td>1.000000</td>\n",
       "    </tr>\n",
       "    <tr>\n",
       "      <th>75%</th>\n",
       "      <td>5795.000000</td>\n",
       "      <td>2297.250000</td>\n",
       "      <td>168.000000</td>\n",
       "      <td>360.00000</td>\n",
       "      <td>1.000000</td>\n",
       "    </tr>\n",
       "    <tr>\n",
       "      <th>max</th>\n",
       "      <td>81000.000000</td>\n",
       "      <td>41667.000000</td>\n",
       "      <td>700.000000</td>\n",
       "      <td>480.00000</td>\n",
       "      <td>1.000000</td>\n",
       "    </tr>\n",
       "  </tbody>\n",
       "</table>\n",
       "</div>"
      ],
      "text/plain": [
       "       ApplicantIncome  CoapplicantIncome  LoanAmount  Loan_Amount_Term  \\\n",
       "count       614.000000         614.000000  592.000000         600.00000   \n",
       "mean       5403.459283        1621.245798  146.412162         342.00000   \n",
       "std        6109.041673        2926.248369   85.587325          65.12041   \n",
       "min         150.000000           0.000000    9.000000          12.00000   \n",
       "25%        2877.500000           0.000000  100.000000         360.00000   \n",
       "50%        3812.500000        1188.500000  128.000000         360.00000   \n",
       "75%        5795.000000        2297.250000  168.000000         360.00000   \n",
       "max       81000.000000       41667.000000  700.000000         480.00000   \n",
       "\n",
       "       Credit_History  \n",
       "count      564.000000  \n",
       "mean         0.842199  \n",
       "std          0.364878  \n",
       "min          0.000000  \n",
       "25%          1.000000  \n",
       "50%          1.000000  \n",
       "75%          1.000000  \n",
       "max          1.000000  "
      ]
     },
     "execution_count": 92,
     "metadata": {},
     "output_type": "execute_result"
    }
   ],
   "source": [
    "loan = pd.read_csv('train.csv')\n",
    "loan_test = pd.read_csv('test.csv')\n",
    "loan.describe()"
   ]
  },
  {
   "cell_type": "code",
   "execution_count": 93,
   "metadata": {
    "collapsed": false
   },
   "outputs": [
    {
     "data": {
      "text/plain": [
       "Loan_ID              614\n",
       "Gender               601\n",
       "Married              611\n",
       "Dependents           599\n",
       "Education            614\n",
       "Self_Employed        582\n",
       "ApplicantIncome      614\n",
       "CoapplicantIncome    614\n",
       "LoanAmount           592\n",
       "Loan_Amount_Term     600\n",
       "Credit_History       564\n",
       "Property_Area        614\n",
       "Loan_Status          614\n",
       "dtype: int64"
      ]
     },
     "execution_count": 93,
     "metadata": {},
     "output_type": "execute_result"
    }
   ],
   "source": [
    "loan.count()"
   ]
  },
  {
   "cell_type": "code",
   "execution_count": 94,
   "metadata": {
    "collapsed": false
   },
   "outputs": [],
   "source": [
    "loan.loc[loan['Education'] == 'Graduate', 'Education'] = 1\n",
    "loan.loc[loan['Education'] == 'Not Graduate', 'Education'] = 0\n",
    "loan.loc[loan['Property_Area'] == 'Rural', 'Property_Area'] = 0\n",
    "loan.loc[loan['Property_Area'] == 'Semiurban', 'Property_Area'] = 1\n",
    "loan.loc[loan['Property_Area'] == 'Urban', 'Property_Area'] = 2\n",
    "loan2 = loan\n",
    "loan3 = loan\n",
    "loan4 = loan"
   ]
  },
  {
   "cell_type": "code",
   "execution_count": 95,
   "metadata": {
    "collapsed": false
   },
   "outputs": [
    {
     "name": "stdout",
     "output_type": "stream",
     "text": [
      "[ 0.69230769  0.69230769  0.66666667  0.70588235  0.7254902   0.68627451\n",
      "  0.70588235  0.68627451  0.66666667  0.68627451  0.68627451  0.64705882]\n",
      "0.687280040221\n"
     ]
    }
   ],
   "source": [
    "predictors = ['Education', 'ApplicantIncome', 'CoapplicantIncome', 'Property_Area']\n",
    "model = svm.SVC(probability=True)\n",
    "scores = cross_validation.cross_val_score(model, loan[predictors], loan['Loan_Status'], cv=12)\n",
    "print(scores)\n",
    "print(scores.mean())"
   ]
  },
  {
   "cell_type": "code",
   "execution_count": 96,
   "metadata": {
    "collapsed": false
   },
   "outputs": [],
   "source": [
    "#loan2['LoanAmount'] = loan2['LoanAmount'].fillna(loan2['LoanAmount'].mean())\n",
    "#loan2['Loan_Amount_Term'] = loan2['Loan_Amount_Term'].fillna(loan2['Loan_Amount_Term'].mean())\n",
    "\n",
    "#loan2['Credit_History'] = loan2['Credit_History'].fillna(3.0)\n",
    "#loan2.loc[(loan2['Credit_History'] == 3.0) & (loan2['Loan_Status'] == 'N'), 'Credit_History'] = 0\n",
    "#loan2.loc[(loan2['Credit_History'] == 3.0) & (loan2['Loan_Status'] == 'Y'), 'Credit_History'] = 1\n",
    "#predictors = ['ApplicantIncome', 'CoapplicantIncome', 'LoanAmount', 'Credit_History', 'Education', 'Property_Area', 'Loan_Amount_Term']\n",
    "# Perform feature selection\n",
    "#selector = SelectKBest(f_classif, k=5)\n",
    "#selector.fit(loan2[predictors], loan2['Loan_Status'])\n",
    "#scores = -np.log10(selector.pvalues_)\n",
    "\n",
    "# Plot the scores.  See how \"Pclass\", \"Sex\", \"Title\", and \"Fare\" are the best?\n",
    "#plt.bar(range(len(predictors)), scores)\n",
    "#plt.xticks(range(len(predictors)), predictors, rotation='vertical')\n",
    "#plt.show()\n",
    "\n",
    "#model = svm.SVC(probability=True)\n",
    "#scores = cross_validation.cross_val_score(model, loan2[predictors], loan2['Loan_Status'], cv=12)\n",
    "#print(scores)\n",
    "#print(scores.mean())"
   ]
  },
  {
   "cell_type": "code",
   "execution_count": 99,
   "metadata": {
    "collapsed": false
   },
   "outputs": [
    {
     "name": "stdout",
     "output_type": "stream",
     "text": [
      "[ 0.8         0.79512195  0.83333333]\n",
      "0.809485094851\n"
     ]
    },
    {
     "data": {
      "text/plain": [
       "SVC(C=1.0, cache_size=200, class_weight=None, coef0=0.0,\n",
       "  decision_function_shape=None, degree=3, gamma='auto', kernel='rbf',\n",
       "  max_iter=-1, probability=True, random_state=None, shrinking=True,\n",
       "  tol=0.001, verbose=False)"
      ]
     },
     "execution_count": 99,
     "metadata": {},
     "output_type": "execute_result"
    }
   ],
   "source": [
    "loan3['LoanAmount'] = loan['LoanAmount'].fillna(loan['LoanAmount'].mean())\n",
    "loan3['Loan_Amount_Term'] = loan['Loan_Amount_Term'].fillna(loan['Loan_Amount_Term'].mean())\n",
    "#print(loan['Credit_History'].mode())\n",
    "#loan3['Credit_History'] = loan['Credit_History'].fillna(loan['Credit_History'].mode())\n",
    "loan3['Credit_History'] = loan3['Credit_History'].fillna(loan3['Credit_History'].median())\n",
    "\n",
    "\n",
    "predictors = ['Credit_History']\n",
    "# Perform feature selection\n",
    "#selector = SelectKBest(f_classif, k=5)\n",
    "#selector.fit(loan3[predictors], loan2['Loan_Status'])\n",
    "#scores = -np.log10(selector.pvalues_)\n",
    "\n",
    "# Plot the scores.  See how \"Pclass\", \"Sex\", \"Title\", and \"Fare\" are the best?\n",
    "#plt.bar(range(len(predictors)), scores)\n",
    "#plt.xticks(range(len(predictors)), predictors, rotation='vertical')\n",
    "#plt.show()\n",
    "\n",
    "model = svm.SVC(probability=True)\n",
    "scores = cross_validation.cross_val_score(model, loan3[predictors], loan3['Loan_Status'], cv=3)\n",
    "print(scores)\n",
    "print(scores.mean())\n",
    "model.fit(loan3[predictors], loan3['Loan_Status'])"
   ]
  },
  {
   "cell_type": "code",
   "execution_count": null,
   "metadata": {
    "collapsed": false
   },
   "outputs": [],
   "source": [
    "loan_test.describe()"
   ]
  },
  {
   "cell_type": "code",
   "execution_count": null,
   "metadata": {
    "collapsed": false
   },
   "outputs": [],
   "source": [
    "print(loan_test.count())\n",
    "loan_test.loc[loan_test['Education'] == 'Graduate', 'Education'] = 1\n",
    "loan_test.loc[loan_test['Education'] == 'Not Graduate', 'Education'] = 0\n",
    "loan_test.loc[loan_test['Property_Area'] == 'Rural', 'Property_Area'] = 0\n",
    "loan_test.loc[loan_test['Property_Area'] == 'Semiurban', 'Property_Area'] = 1\n",
    "loan_test.loc[loan_test['Property_Area'] == 'Urban', 'Property_Area'] = 2"
   ]
  },
  {
   "cell_type": "code",
   "execution_count": null,
   "metadata": {
    "collapsed": false
   },
   "outputs": [],
   "source": [
    "loan_test2 = loan_test\n",
    "loan_test2['Credit_History'] = loan_test['Credit_History'].fillna(loan_test['Credit_History'].mode())\n",
    "print(loan_test2[predictors])\n",
    "print(model.predict(loan_test2[predictors]))"
   ]
  },
  {
   "cell_type": "code",
   "execution_count": null,
   "metadata": {
    "collapsed": true
   },
   "outputs": [],
   "source": []
  }
 ],
 "metadata": {
  "kernelspec": {
   "display_name": "Python 2",
   "language": "python",
   "name": "python2"
  },
  "language_info": {
   "codemirror_mode": {
    "name": "ipython",
    "version": 2
   },
   "file_extension": ".py",
   "mimetype": "text/x-python",
   "name": "python",
   "nbconvert_exporter": "python",
   "pygments_lexer": "ipython2",
   "version": "2.7.11"
  }
 },
 "nbformat": 4,
 "nbformat_minor": 0
}
